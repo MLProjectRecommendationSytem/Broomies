{
 "cells": [
  {
   "cell_type": "code",
   "execution_count": 6,
   "metadata": {},
   "outputs": [
    {
     "data": {
      "text/html": [
       "<div>\n",
       "<style scoped>\n",
       "    .dataframe tbody tr th:only-of-type {\n",
       "        vertical-align: middle;\n",
       "    }\n",
       "\n",
       "    .dataframe tbody tr th {\n",
       "        vertical-align: top;\n",
       "    }\n",
       "\n",
       "    .dataframe thead th {\n",
       "        text-align: right;\n",
       "    }\n",
       "</style>\n",
       "<table border=\"1\" class=\"dataframe\">\n",
       "  <thead>\n",
       "    <tr style=\"text-align: right;\">\n",
       "      <th></th>\n",
       "      <th>ISBN</th>\n",
       "      <th>int</th>\n",
       "    </tr>\n",
       "  </thead>\n",
       "  <tbody>\n",
       "    <tr>\n",
       "      <td>0</td>\n",
       "      <td>9788937437496</td>\n",
       "      <td>오월을 사랑하고 오월을 닮은 시인 피천득 수필집 『인연』. 피천득 특유의 천진함과 ...</td>\n",
       "    </tr>\n",
       "    <tr>\n",
       "      <td>1</td>\n",
       "      <td>9788965708827</td>\n",
       "      <td>혼자여서 괜찮은 시간에서 혼자여서 괜찮은 하루로, 나아가 혼자여서 괜찮은 삶을 살아...</td>\n",
       "    </tr>\n",
       "  </tbody>\n",
       "</table>\n",
       "</div>"
      ],
      "text/plain": [
       "            ISBN                                                int\n",
       "0  9788937437496  오월을 사랑하고 오월을 닮은 시인 피천득 수필집 『인연』. 피천득 특유의 천진함과 ...\n",
       "1  9788965708827  혼자여서 괜찮은 시간에서 혼자여서 괜찮은 하루로, 나아가 혼자여서 괜찮은 삶을 살아..."
      ]
     },
     "execution_count": 6,
     "metadata": {},
     "output_type": "execute_result"
    }
   ],
   "source": [
    "bk = pd.read_csv('../DATA/BOOK/book_introduce.csv')\n",
    "bk[:2]"
   ]
  },
  {
   "cell_type": "code",
   "execution_count": 11,
   "metadata": {},
   "outputs": [
    {
     "data": {
      "text/plain": [
       "208"
      ]
     },
     "execution_count": 11,
     "metadata": {},
     "output_type": "execute_result"
    }
   ],
   "source": [
    "len(bk)"
   ]
  },
  {
   "cell_type": "code",
   "execution_count": 23,
   "metadata": {},
   "outputs": [
    {
     "data": {
      "text/html": [
       "<div>\n",
       "<style scoped>\n",
       "    .dataframe tbody tr th:only-of-type {\n",
       "        vertical-align: middle;\n",
       "    }\n",
       "\n",
       "    .dataframe tbody tr th {\n",
       "        vertical-align: top;\n",
       "    }\n",
       "\n",
       "    .dataframe thead th {\n",
       "        text-align: right;\n",
       "    }\n",
       "</style>\n",
       "<table border=\"1\" class=\"dataframe\">\n",
       "  <thead>\n",
       "    <tr style=\"text-align: right;\">\n",
       "      <th></th>\n",
       "      <th>label</th>\n",
       "      <th>category</th>\n",
       "      <th>ISBN</th>\n",
       "      <th>title</th>\n",
       "      <th>author</th>\n",
       "      <th>publisher</th>\n",
       "      <th>new_keyword</th>\n",
       "      <th>new_subject</th>\n",
       "    </tr>\n",
       "  </thead>\n",
       "  <tbody>\n",
       "    <tr>\n",
       "      <td>0</td>\n",
       "      <td>1</td>\n",
       "      <td>3</td>\n",
       "      <td>9788937437496</td>\n",
       "      <td>인연</td>\n",
       "      <td>피천득</td>\n",
       "      <td>민음사</td>\n",
       "      <td>시인 수필 오월 박준 박완서 수필집</td>\n",
       "      <td>NaN</td>\n",
       "    </tr>\n",
       "    <tr>\n",
       "      <td>1</td>\n",
       "      <td>1</td>\n",
       "      <td>5</td>\n",
       "      <td>9791129706126</td>\n",
       "      <td>최태성 한국사능력검정시험: 심화(1, 2, 3급)</td>\n",
       "      <td>최태성</td>\n",
       "      <td>메가스터디</td>\n",
       "      <td>스토리텔링 광개토대왕 기출문제 파이널 압축 막판</td>\n",
       "      <td>NaN</td>\n",
       "    </tr>\n",
       "  </tbody>\n",
       "</table>\n",
       "</div>"
      ],
      "text/plain": [
       "   label  category           ISBN                        title author  \\\n",
       "0      1         3  9788937437496                           인연    피천득   \n",
       "1      1         5  9791129706126  최태성 한국사능력검정시험: 심화(1, 2, 3급)    최태성   \n",
       "\n",
       "  publisher                 new_keyword new_subject  \n",
       "0       민음사         시인 수필 오월 박준 박완서 수필집         NaN  \n",
       "1     메가스터디  스토리텔링 광개토대왕 기출문제 파이널 압축 막판         NaN  "
      ]
     },
     "execution_count": 23,
     "metadata": {},
     "output_type": "execute_result"
    }
   ],
   "source": [
    "key = pd.read_csv('../DATA/BOOK/total_keyword_book.csv', index_col=0)\n",
    "key[:2]"
   ]
  },
  {
   "cell_type": "code",
   "execution_count": 24,
   "metadata": {},
   "outputs": [
    {
     "data": {
      "text/plain": [
       "Index(['ISBN', 'int', 'label', 'category', 'title', 'author', 'publisher',\n",
       "       'new_keyword', 'new_subject'],\n",
       "      dtype='object')"
      ]
     },
     "execution_count": 24,
     "metadata": {},
     "output_type": "execute_result"
    }
   ],
   "source": [
    "df_all = pd.merge(bk, key, on='ISBN')\n",
    "df_all.columns"
   ]
  },
  {
   "cell_type": "code",
   "execution_count": 25,
   "metadata": {},
   "outputs": [
    {
     "data": {
      "text/plain": [
       "208"
      ]
     },
     "execution_count": 25,
     "metadata": {},
     "output_type": "execute_result"
    }
   ],
   "source": [
    "len(df_all)"
   ]
  },
  {
   "cell_type": "code",
   "execution_count": 26,
   "metadata": {},
   "outputs": [],
   "source": [
    "df_all = df_all[['ISBN', 'title', 'author', 'publisher', 'new_keyword', 'new_subject', 'int']]"
   ]
  },
  {
   "cell_type": "code",
   "execution_count": 31,
   "metadata": {},
   "outputs": [
    {
     "data": {
      "text/html": [
       "<div>\n",
       "<style scoped>\n",
       "    .dataframe tbody tr th:only-of-type {\n",
       "        vertical-align: middle;\n",
       "    }\n",
       "\n",
       "    .dataframe tbody tr th {\n",
       "        vertical-align: top;\n",
       "    }\n",
       "\n",
       "    .dataframe thead th {\n",
       "        text-align: right;\n",
       "    }\n",
       "</style>\n",
       "<table border=\"1\" class=\"dataframe\">\n",
       "  <thead>\n",
       "    <tr style=\"text-align: right;\">\n",
       "      <th></th>\n",
       "      <th>ISBN</th>\n",
       "      <th>title</th>\n",
       "      <th>author</th>\n",
       "      <th>publisher</th>\n",
       "      <th>new_keyword</th>\n",
       "      <th>new_subject</th>\n",
       "      <th>int</th>\n",
       "    </tr>\n",
       "  </thead>\n",
       "  <tbody>\n",
       "    <tr>\n",
       "      <td>0</td>\n",
       "      <td>9788937437496</td>\n",
       "      <td>인연</td>\n",
       "      <td>피천득</td>\n",
       "      <td>민음사</td>\n",
       "      <td>시인 수필 오월 박준 박완서 수필집</td>\n",
       "      <td>NaN</td>\n",
       "      <td>오월을 사랑하고 오월을 닮은 시인 피천득 수필집 『인연』. 피천득 특유의 천진함과 ...</td>\n",
       "    </tr>\n",
       "    <tr>\n",
       "      <td>1</td>\n",
       "      <td>9788965708827</td>\n",
       "      <td>혼자여서 괜찮은 하루</td>\n",
       "      <td>곽정은</td>\n",
       "      <td>포르체</td>\n",
       "      <td>연애 일상 심리학 한국에세이 위로 마음챙김</td>\n",
       "      <td>한국에세이 명상 혼자 소확행 연애 일상 마음챙김 심리학</td>\n",
       "      <td>혼자여서 괜찮은 시간에서 혼자여서 괜찮은 하루로, 나아가 혼자여서 괜찮은 삶을 살아...</td>\n",
       "    </tr>\n",
       "  </tbody>\n",
       "</table>\n",
       "</div>"
      ],
      "text/plain": [
       "            ISBN        title author publisher              new_keyword  \\\n",
       "0  9788937437496           인연    피천득       민음사      시인 수필 오월 박준 박완서 수필집   \n",
       "1  9788965708827  혼자여서 괜찮은 하루    곽정은       포르체  연애 일상 심리학 한국에세이 위로 마음챙김   \n",
       "\n",
       "                      new_subject  \\\n",
       "0                             NaN   \n",
       "1  한국에세이 명상 혼자 소확행 연애 일상 마음챙김 심리학   \n",
       "\n",
       "                                                 int  \n",
       "0  오월을 사랑하고 오월을 닮은 시인 피천득 수필집 『인연』. 피천득 특유의 천진함과 ...  \n",
       "1  혼자여서 괜찮은 시간에서 혼자여서 괜찮은 하루로, 나아가 혼자여서 괜찮은 삶을 살아...  "
      ]
     },
     "execution_count": 31,
     "metadata": {},
     "output_type": "execute_result"
    }
   ],
   "source": [
    "df_all[:2]"
   ]
  },
  {
   "cell_type": "code",
   "execution_count": 48,
   "metadata": {},
   "outputs": [],
   "source": [
    "isbns = []\n",
    "for i in range(len(df_all)):\n",
    "    isbn = str(int(df_all['ISBN'][i]))\n",
    "    isbns.append(isbn)\n",
    "len(isbns)\n",
    "\n",
    "df_all['ISBN'] = isbns"
   ]
  },
  {
   "cell_type": "code",
   "execution_count": 49,
   "metadata": {
    "scrolled": true
   },
   "outputs": [
    {
     "name": "stdout",
     "output_type": "stream",
     "text": [
      "<class 'pandas.core.frame.DataFrame'>\n",
      "Int64Index: 208 entries, 0 to 207\n",
      "Data columns (total 7 columns):\n",
      "ISBN           208 non-null object\n",
      "title          208 non-null object\n",
      "author         208 non-null object\n",
      "publisher      208 non-null object\n",
      "new_keyword    179 non-null object\n",
      "new_subject    95 non-null object\n",
      "int            196 non-null object\n",
      "dtypes: object(7)\n",
      "memory usage: 23.0+ KB\n"
     ]
    }
   ],
   "source": [
    "df_all.info()"
   ]
  },
  {
   "cell_type": "code",
   "execution_count": 27,
   "metadata": {},
   "outputs": [],
   "source": [
    "df = pd.read_csv('../DATA/BOOK/book_01_03_15_05_noun.csv', index_col=0)"
   ]
  },
  {
   "cell_type": "code",
   "execution_count": 41,
   "metadata": {},
   "outputs": [],
   "source": [
    "isbns = []\n",
    "for i in range(len(df)):\n",
    "    isbn = str(int(df['ISBN'][i]))\n",
    "    isbns.append(isbn)\n",
    "len(isbns)\n",
    "\n",
    "df['ISBN'] = isbns"
   ]
  },
  {
   "cell_type": "code",
   "execution_count": 42,
   "metadata": {},
   "outputs": [
    {
     "data": {
      "text/html": [
       "<div>\n",
       "<style scoped>\n",
       "    .dataframe tbody tr th:only-of-type {\n",
       "        vertical-align: middle;\n",
       "    }\n",
       "\n",
       "    .dataframe tbody tr th {\n",
       "        vertical-align: top;\n",
       "    }\n",
       "\n",
       "    .dataframe thead th {\n",
       "        text-align: right;\n",
       "    }\n",
       "</style>\n",
       "<table border=\"1\" class=\"dataframe\">\n",
       "  <thead>\n",
       "    <tr style=\"text-align: right;\">\n",
       "      <th></th>\n",
       "      <th>category</th>\n",
       "      <th>ISBN</th>\n",
       "      <th>title</th>\n",
       "      <th>corpus</th>\n",
       "      <th>corpus3</th>\n",
       "      <th>area</th>\n",
       "      <th>company</th>\n",
       "      <th>interest</th>\n",
       "      <th>comment</th>\n",
       "    </tr>\n",
       "  </thead>\n",
       "  <tbody>\n",
       "    <tr>\n",
       "      <td>0</td>\n",
       "      <td>1</td>\n",
       "      <td>9788956609959</td>\n",
       "      <td>종의 기원</td>\n",
       "      <td>펴내는 작품마다 압도적인 서사와 폭발적인 이야기의 힘으로 많은 독자들의 뜨거운 사랑...</td>\n",
       "      <td>작품 압도 서사 폭발 이야기 힘 독자 사랑 온 작가 정유 정의 장편소설 종 기원 전...</td>\n",
       "      <td>자연</td>\n",
       "      <td>혼자</td>\n",
       "      <td>Kn</td>\n",
       "      <td>NaN</td>\n",
       "    </tr>\n",
       "    <tr>\n",
       "      <td>1</td>\n",
       "      <td>1</td>\n",
       "      <td>9788936477936</td>\n",
       "      <td>알로하, 나의 엄마들</td>\n",
       "      <td>따스한 손길로 마음을 어루만지는 이 시대 선한 이야기꾼 이금이 작가의 장편소설 『알...</td>\n",
       "      <td>손길 마음 이 시대 이야기 금 작가 장편소설 알로하 나 엄마 사진 장 평생 운명 하...</td>\n",
       "      <td>자연</td>\n",
       "      <td>가족</td>\n",
       "      <td>Kn</td>\n",
       "      <td>NaN</td>\n",
       "    </tr>\n",
       "  </tbody>\n",
       "</table>\n",
       "</div>"
      ],
      "text/plain": [
       "   category           ISBN        title  \\\n",
       "0         1  9788956609959        종의 기원   \n",
       "1         1  9788936477936  알로하, 나의 엄마들   \n",
       "\n",
       "                                              corpus  \\\n",
       "0  펴내는 작품마다 압도적인 서사와 폭발적인 이야기의 힘으로 많은 독자들의 뜨거운 사랑...   \n",
       "1  따스한 손길로 마음을 어루만지는 이 시대 선한 이야기꾼 이금이 작가의 장편소설 『알...   \n",
       "\n",
       "                                             corpus3 area company interest  \\\n",
       "0  작품 압도 서사 폭발 이야기 힘 독자 사랑 온 작가 정유 정의 장편소설 종 기원 전...   자연      혼자       Kn   \n",
       "1  손길 마음 이 시대 이야기 금 작가 장편소설 알로하 나 엄마 사진 장 평생 운명 하...   자연      가족       Kn   \n",
       "\n",
       "  comment  \n",
       "0     NaN  \n",
       "1     NaN  "
      ]
     },
     "execution_count": 42,
     "metadata": {},
     "output_type": "execute_result"
    }
   ],
   "source": [
    "df[:2]"
   ]
  },
  {
   "cell_type": "code",
   "execution_count": 46,
   "metadata": {},
   "outputs": [
    {
     "name": "stdout",
     "output_type": "stream",
     "text": [
      "<class 'pandas.core.frame.DataFrame'>\n",
      "Int64Index: 417 entries, 0 to 416\n",
      "Data columns (total 9 columns):\n",
      "category    417 non-null int64\n",
      "ISBN        417 non-null object\n",
      "title       417 non-null object\n",
      "corpus      417 non-null object\n",
      "corpus3     417 non-null object\n",
      "area        417 non-null object\n",
      "company     417 non-null object\n",
      "interest    417 non-null object\n",
      "comment     109 non-null object\n",
      "dtypes: int64(1), object(8)\n",
      "memory usage: 52.6+ KB\n"
     ]
    }
   ],
   "source": [
    "df.info()"
   ]
  },
  {
   "cell_type": "code",
   "execution_count": 50,
   "metadata": {},
   "outputs": [
    {
     "data": {
      "text/plain": [
       "108"
      ]
     },
     "execution_count": 50,
     "metadata": {},
     "output_type": "execute_result"
    }
   ],
   "source": [
    "df_new = pd.merge(df_all, df, on='ISBN')\n",
    "len(df_new)"
   ]
  },
  {
   "cell_type": "code",
   "execution_count": 35,
   "metadata": {},
   "outputs": [],
   "source": [
    "df_perfect = df_new[['title', 'author', 'publisher', 'new_keyword', 'new_subject', 'int', 'area', 'company', 'interest']]"
   ]
  },
  {
   "cell_type": "code",
   "execution_count": 36,
   "metadata": {},
   "outputs": [
    {
     "data": {
      "text/html": [
       "<div>\n",
       "<style scoped>\n",
       "    .dataframe tbody tr th:only-of-type {\n",
       "        vertical-align: middle;\n",
       "    }\n",
       "\n",
       "    .dataframe tbody tr th {\n",
       "        vertical-align: top;\n",
       "    }\n",
       "\n",
       "    .dataframe thead th {\n",
       "        text-align: right;\n",
       "    }\n",
       "</style>\n",
       "<table border=\"1\" class=\"dataframe\">\n",
       "  <thead>\n",
       "    <tr style=\"text-align: right;\">\n",
       "      <th></th>\n",
       "      <th>title</th>\n",
       "      <th>author</th>\n",
       "      <th>publisher</th>\n",
       "      <th>new_keyword</th>\n",
       "      <th>new_subject</th>\n",
       "      <th>int</th>\n",
       "      <th>area</th>\n",
       "      <th>company</th>\n",
       "      <th>interest</th>\n",
       "    </tr>\n",
       "  </thead>\n",
       "  <tbody>\n",
       "    <tr>\n",
       "      <td>0</td>\n",
       "      <td>인연</td>\n",
       "      <td>피천득</td>\n",
       "      <td>민음사</td>\n",
       "      <td>시인 수필 오월 박준 박완서 수필집</td>\n",
       "      <td>NaN</td>\n",
       "      <td>오월을 사랑하고 오월을 닮은 시인 피천득 수필집 『인연』. 피천득 특유의 천진함과 ...</td>\n",
       "      <td>자연</td>\n",
       "      <td>가족</td>\n",
       "      <td>Ar</td>\n",
       "    </tr>\n",
       "    <tr>\n",
       "      <td>1</td>\n",
       "      <td>혼자여서 괜찮은 하루</td>\n",
       "      <td>곽정은</td>\n",
       "      <td>포르체</td>\n",
       "      <td>연애 일상 심리학 한국에세이 위로 마음챙김</td>\n",
       "      <td>한국에세이 명상 혼자 소확행 연애 일상 마음챙김 심리학</td>\n",
       "      <td>혼자여서 괜찮은 시간에서 혼자여서 괜찮은 하루로, 나아가 혼자여서 괜찮은 삶을 살아...</td>\n",
       "      <td>도시</td>\n",
       "      <td>혼자</td>\n",
       "      <td>Ex</td>\n",
       "    </tr>\n",
       "  </tbody>\n",
       "</table>\n",
       "</div>"
      ],
      "text/plain": [
       "         title author publisher              new_keyword  \\\n",
       "0           인연    피천득       민음사      시인 수필 오월 박준 박완서 수필집   \n",
       "1  혼자여서 괜찮은 하루    곽정은       포르체  연애 일상 심리학 한국에세이 위로 마음챙김   \n",
       "\n",
       "                      new_subject  \\\n",
       "0                             NaN   \n",
       "1  한국에세이 명상 혼자 소확행 연애 일상 마음챙김 심리학   \n",
       "\n",
       "                                                 int area company interest  \n",
       "0  오월을 사랑하고 오월을 닮은 시인 피천득 수필집 『인연』. 피천득 특유의 천진함과 ...   자연      가족       Ar  \n",
       "1  혼자여서 괜찮은 시간에서 혼자여서 괜찮은 하루로, 나아가 혼자여서 괜찮은 삶을 살아...   도시      혼자       Ex  "
      ]
     },
     "execution_count": 36,
     "metadata": {},
     "output_type": "execute_result"
    }
   ],
   "source": [
    "df_perfect[:2]"
   ]
  },
  {
   "cell_type": "markdown",
   "metadata": {},
   "source": [
    "### 데이터 전처리"
   ]
  },
  {
   "cell_type": "code",
   "execution_count": 61,
   "metadata": {},
   "outputs": [],
   "source": [
    "df_perfect['temp'] = df_perfect['area'] + df_perfect['company'] + df_perfect['interest'] + df_perfect['title'] + df_perfect['author'] + df_perfect['publisher'] + df_perfect['new_keyword'] + df_perfect['new_subject'] + df_perfect['int']"
   ]
  },
  {
   "cell_type": "code",
   "execution_count": 62,
   "metadata": {},
   "outputs": [
    {
     "data": {
      "text/plain": [
       "108"
      ]
     },
     "execution_count": 62,
     "metadata": {},
     "output_type": "execute_result"
    }
   ],
   "source": [
    "len(df_perfect['temp'].notnull())"
   ]
  },
  {
   "cell_type": "code",
   "execution_count": 63,
   "metadata": {},
   "outputs": [],
   "source": [
    "df_perfect = df_perfect.fillna(' ')"
   ]
  },
  {
   "cell_type": "markdown",
   "metadata": {},
   "source": [
    "### 라벨인코딩"
   ]
  },
  {
   "cell_type": "code",
   "execution_count": 64,
   "metadata": {},
   "outputs": [],
   "source": [
    "temp = []\n",
    "temp.append(list(df_perfect['interest'].unique()))\n",
    "temp.append(list(df_perfect['area'].unique()))\n",
    "temp.append(list(df_perfect['company'].unique()))\n",
    "temp = sum(temp, [])"
   ]
  },
  {
   "cell_type": "code",
   "execution_count": 65,
   "metadata": {},
   "outputs": [
    {
     "data": {
      "text/plain": [
       "['Ar', 'Ex', 'Sh', 'Kn', 'Ad', 'Et', 'Fo', '자연', '도시', '가족', '혼자', '친구', '허니문']"
      ]
     },
     "execution_count": 65,
     "metadata": {},
     "output_type": "execute_result"
    }
   ],
   "source": [
    "temp"
   ]
  },
  {
   "cell_type": "code",
   "execution_count": 66,
   "metadata": {},
   "outputs": [
    {
     "data": {
      "text/plain": [
       "LabelEncoder()"
      ]
     },
     "execution_count": 66,
     "metadata": {},
     "output_type": "execute_result"
    }
   ],
   "source": [
    "from sklearn.preprocessing import LabelEncoder\n",
    "le = LabelEncoder()\n",
    "le.fit(temp)"
   ]
  },
  {
   "cell_type": "code",
   "execution_count": 68,
   "metadata": {},
   "outputs": [],
   "source": [
    "df_perfect['y1'] = df_perfect['area'].apply(lambda x: le.transform([x])[0])\n",
    "df_perfect['y2'] = df_perfect['company'].apply(lambda x : le.transform([x])[0])\n",
    "df_perfect['y3'] = df_perfect['interest'].apply(lambda x : le.transform([x])[0])"
   ]
  },
  {
   "cell_type": "code",
   "execution_count": 69,
   "metadata": {},
   "outputs": [
    {
     "data": {
      "text/html": [
       "<div>\n",
       "<style scoped>\n",
       "    .dataframe tbody tr th:only-of-type {\n",
       "        vertical-align: middle;\n",
       "    }\n",
       "\n",
       "    .dataframe tbody tr th {\n",
       "        vertical-align: top;\n",
       "    }\n",
       "\n",
       "    .dataframe thead th {\n",
       "        text-align: right;\n",
       "    }\n",
       "</style>\n",
       "<table border=\"1\" class=\"dataframe\">\n",
       "  <thead>\n",
       "    <tr style=\"text-align: right;\">\n",
       "      <th></th>\n",
       "      <th>title</th>\n",
       "      <th>author</th>\n",
       "      <th>publisher</th>\n",
       "      <th>new_keyword</th>\n",
       "      <th>new_subject</th>\n",
       "      <th>int</th>\n",
       "      <th>area</th>\n",
       "      <th>company</th>\n",
       "      <th>interest</th>\n",
       "      <th>temp</th>\n",
       "      <th>y1</th>\n",
       "      <th>y2</th>\n",
       "      <th>y3</th>\n",
       "    </tr>\n",
       "  </thead>\n",
       "  <tbody>\n",
       "    <tr>\n",
       "      <td>0</td>\n",
       "      <td>인연</td>\n",
       "      <td>피천득</td>\n",
       "      <td>민음사</td>\n",
       "      <td>시인 수필 오월 박준 박완서 수필집</td>\n",
       "      <td></td>\n",
       "      <td>오월을 사랑하고 오월을 닮은 시인 피천득 수필집 『인연』. 피천득 특유의 천진함과 ...</td>\n",
       "      <td>자연</td>\n",
       "      <td>가족</td>\n",
       "      <td>Ar</td>\n",
       "      <td>자연가족Ar인연피천득민음사시인 수필 오월 박준 박완서 수필집 오월을 사랑하고 오월을...</td>\n",
       "      <td>9</td>\n",
       "      <td>7</td>\n",
       "      <td>1</td>\n",
       "    </tr>\n",
       "    <tr>\n",
       "      <td>1</td>\n",
       "      <td>혼자여서 괜찮은 하루</td>\n",
       "      <td>곽정은</td>\n",
       "      <td>포르체</td>\n",
       "      <td>연애 일상 심리학 한국에세이 위로 마음챙김</td>\n",
       "      <td>한국에세이 명상 혼자 소확행 연애 일상 마음챙김 심리학</td>\n",
       "      <td>혼자여서 괜찮은 시간에서 혼자여서 괜찮은 하루로, 나아가 혼자여서 괜찮은 삶을 살아...</td>\n",
       "      <td>도시</td>\n",
       "      <td>혼자</td>\n",
       "      <td>Ex</td>\n",
       "      <td>도시혼자Ex혼자여서 괜찮은 하루곽정은포르체연애 일상 심리학 한국에세이 위로 마음챙김...</td>\n",
       "      <td>8</td>\n",
       "      <td>12</td>\n",
       "      <td>3</td>\n",
       "    </tr>\n",
       "  </tbody>\n",
       "</table>\n",
       "</div>"
      ],
      "text/plain": [
       "         title author publisher              new_keyword  \\\n",
       "0           인연    피천득       민음사      시인 수필 오월 박준 박완서 수필집   \n",
       "1  혼자여서 괜찮은 하루    곽정은       포르체  연애 일상 심리학 한국에세이 위로 마음챙김   \n",
       "\n",
       "                      new_subject  \\\n",
       "0                                   \n",
       "1  한국에세이 명상 혼자 소확행 연애 일상 마음챙김 심리학   \n",
       "\n",
       "                                                 int area company interest  \\\n",
       "0  오월을 사랑하고 오월을 닮은 시인 피천득 수필집 『인연』. 피천득 특유의 천진함과 ...   자연      가족       Ar   \n",
       "1  혼자여서 괜찮은 시간에서 혼자여서 괜찮은 하루로, 나아가 혼자여서 괜찮은 삶을 살아...   도시      혼자       Ex   \n",
       "\n",
       "                                                temp  y1  y2  y3  \n",
       "0  자연가족Ar인연피천득민음사시인 수필 오월 박준 박완서 수필집 오월을 사랑하고 오월을...   9   7   1  \n",
       "1  도시혼자Ex혼자여서 괜찮은 하루곽정은포르체연애 일상 심리학 한국에세이 위로 마음챙김...   8  12   3  "
      ]
     },
     "execution_count": 69,
     "metadata": {},
     "output_type": "execute_result"
    }
   ],
   "source": [
    "df_perfect[:2]"
   ]
  },
  {
   "cell_type": "markdown",
   "metadata": {},
   "source": [
    "### tfidf vectorize"
   ]
  },
  {
   "cell_type": "code",
   "execution_count": 70,
   "metadata": {},
   "outputs": [],
   "source": [
    "from sklearn.feature_extraction.text import TfidfVectorizer\n",
    "\n",
    "tf = TfidfVectorizer()\n",
    "X = tf.fit_transform(df_perfect['temp']).toarray()"
   ]
  },
  {
   "cell_type": "code",
   "execution_count": 71,
   "metadata": {},
   "outputs": [
    {
     "data": {
      "text/plain": [
       "array([[ 9,  7,  1],\n",
       "       [ 8, 12,  3],\n",
       "       [ 9, 12,  1],\n",
       "       [ 8,  7,  6],\n",
       "       [ 8, 12,  5],\n",
       "       [ 8, 10,  3],\n",
       "       [ 9,  7,  6],\n",
       "       [ 8,  7,  1],\n",
       "       [ 9, 12,  1],\n",
       "       [ 8, 12,  6],\n",
       "       [ 8, 12,  5],\n",
       "       [ 8, 12,  1],\n",
       "       [ 8,  7,  0],\n",
       "       [ 8, 11,  6],\n",
       "       [ 9, 12,  6],\n",
       "       [ 8, 12,  3],\n",
       "       [ 8, 12,  1],\n",
       "       [ 9,  7,  1],\n",
       "       [ 9, 12,  1],\n",
       "       [ 8, 12,  6],\n",
       "       [ 9,  7,  1],\n",
       "       [ 8, 12,  6],\n",
       "       [ 8, 12,  5],\n",
       "       [ 8, 10,  6],\n",
       "       [ 8, 12,  3],\n",
       "       [ 8, 12,  3],\n",
       "       [ 9, 12,  1],\n",
       "       [ 8, 10,  0],\n",
       "       [ 9, 12,  1],\n",
       "       [ 9, 10,  1],\n",
       "       [ 8, 10,  2],\n",
       "       [ 8, 12,  0],\n",
       "       [ 9,  7,  1],\n",
       "       [ 8, 12,  1],\n",
       "       [ 8, 11,  3],\n",
       "       [ 9,  7,  1],\n",
       "       [ 9, 12,  3],\n",
       "       [ 9,  7,  3],\n",
       "       [ 8, 12,  0],\n",
       "       [ 8, 10,  0],\n",
       "       [ 8, 12,  1],\n",
       "       [ 8, 10,  4],\n",
       "       [ 8, 12,  6],\n",
       "       [ 9, 10,  0],\n",
       "       [ 9,  7,  3],\n",
       "       [ 8,  7,  1],\n",
       "       [ 8, 12,  5],\n",
       "       [ 8, 10,  3],\n",
       "       [ 8, 12,  6],\n",
       "       [ 9, 12,  5],\n",
       "       [ 8,  7,  5],\n",
       "       [ 9,  7,  1],\n",
       "       [ 9, 12,  3],\n",
       "       [ 9, 12,  3],\n",
       "       [ 8, 12,  1],\n",
       "       [ 8, 12,  6],\n",
       "       [ 8, 12,  1],\n",
       "       [ 9,  7,  1],\n",
       "       [ 9, 12,  3],\n",
       "       [ 8, 12,  6],\n",
       "       [ 9, 12,  5],\n",
       "       [ 8, 10,  4],\n",
       "       [ 9,  7,  3],\n",
       "       [ 8,  7,  5],\n",
       "       [ 9,  7,  5],\n",
       "       [ 9, 12,  1],\n",
       "       [ 9,  7,  3],\n",
       "       [ 8, 12,  5],\n",
       "       [ 8, 10,  3],\n",
       "       [ 8, 12,  5],\n",
       "       [ 8, 10,  6],\n",
       "       [ 9,  7,  4],\n",
       "       [ 9, 12,  4],\n",
       "       [ 8, 10,  6],\n",
       "       [ 8, 10,  6],\n",
       "       [ 8,  7,  5],\n",
       "       [ 9, 12,  0],\n",
       "       [ 9, 12,  5],\n",
       "       [ 8, 10,  2],\n",
       "       [ 8, 11,  4],\n",
       "       [ 8, 12,  0],\n",
       "       [ 9, 12,  5],\n",
       "       [ 9,  7,  5],\n",
       "       [ 9, 12,  3],\n",
       "       [ 9,  7,  5],\n",
       "       [ 9, 12,  0],\n",
       "       [ 9, 12,  1],\n",
       "       [ 8, 10,  5],\n",
       "       [ 8,  7,  0],\n",
       "       [ 8, 11,  4],\n",
       "       [ 9,  7,  4],\n",
       "       [ 8, 12,  3],\n",
       "       [ 9, 12,  0],\n",
       "       [ 8, 10,  0],\n",
       "       [ 9, 12,  5],\n",
       "       [ 8, 12,  2],\n",
       "       [ 9, 12,  3],\n",
       "       [ 8, 12,  2],\n",
       "       [ 8, 12,  5],\n",
       "       [ 8, 10,  1],\n",
       "       [ 8, 10,  3],\n",
       "       [ 8, 12,  0],\n",
       "       [ 8, 10,  6],\n",
       "       [ 9, 12,  0],\n",
       "       [ 9, 12,  0],\n",
       "       [ 9, 12,  5],\n",
       "       [ 8,  7,  5],\n",
       "       [ 8, 10,  6]], dtype=int64)"
      ]
     },
     "execution_count": 71,
     "metadata": {},
     "output_type": "execute_result"
    }
   ],
   "source": [
    "Y = np.vstack((np.array(df_perfect['y1']),np.array(df_perfect['y2']),np.array(df_perfect['y3']))).T\n",
    "Y"
   ]
  },
  {
   "cell_type": "markdown",
   "metadata": {},
   "source": [
    "### train, test 나누기"
   ]
  },
  {
   "cell_type": "code",
   "execution_count": 72,
   "metadata": {},
   "outputs": [],
   "source": [
    "# train, test split\n",
    "from sklearn.model_selection import train_test_split\n",
    "\n",
    "X_train, X_test, Y_train, Y_test = train_test_split(X, Y, random_state=13, test_size=0.1)"
   ]
  },
  {
   "cell_type": "markdown",
   "metadata": {},
   "source": [
    "### multinomial NB"
   ]
  },
  {
   "cell_type": "code",
   "execution_count": 73,
   "metadata": {},
   "outputs": [],
   "source": [
    "from sklearn.multioutput import MultiOutputClassifier\n",
    "from sklearn.naive_bayes import MultinomialNB\n",
    "\n",
    "NB = MultinomialNB()\n",
    "multi_target_NB = MultiOutputClassifier(NB, n_jobs=-1)\n",
    "model_NB = multi_target_NB.fit(X_train, Y_train)"
   ]
  },
  {
   "cell_type": "code",
   "execution_count": 74,
   "metadata": {},
   "outputs": [
    {
     "data": {
      "text/plain": [
       "0.09090909090909091"
      ]
     },
     "execution_count": 74,
     "metadata": {},
     "output_type": "execute_result"
    }
   ],
   "source": [
    "model_NB.score(X_test, Y_test)"
   ]
  },
  {
   "cell_type": "markdown",
   "metadata": {},
   "source": [
    "### Randomforest"
   ]
  },
  {
   "cell_type": "code",
   "execution_count": 75,
   "metadata": {},
   "outputs": [],
   "source": [
    "from sklearn.ensemble import RandomForestClassifier\n",
    "\n",
    "RF = RandomForestClassifier(random_state=2, max_features=60, n_estimators=40)\n",
    "multi_target_RF = MultiOutputClassifier(RF, n_jobs=-1)\n",
    "model_RF = multi_target_RF.fit(X_train, Y_train)"
   ]
  },
  {
   "cell_type": "code",
   "execution_count": 76,
   "metadata": {},
   "outputs": [
    {
     "data": {
      "text/plain": [
       "0.09090909090909091"
      ]
     },
     "execution_count": 76,
     "metadata": {},
     "output_type": "execute_result"
    }
   ],
   "source": [
    "model_RF.score(X_test, Y_test)"
   ]
  },
  {
   "cell_type": "code",
   "execution_count": null,
   "metadata": {},
   "outputs": [],
   "source": []
  }
 ],
 "metadata": {
  "kernelspec": {
   "display_name": "Python 3",
   "language": "python",
   "name": "python3"
  },
  "language_info": {
   "codemirror_mode": {
    "name": "ipython",
    "version": 3
   },
   "file_extension": ".py",
   "mimetype": "text/x-python",
   "name": "python",
   "nbconvert_exporter": "python",
   "pygments_lexer": "ipython3",
   "version": "3.7.4"
  }
 },
 "nbformat": 4,
 "nbformat_minor": 2
}
